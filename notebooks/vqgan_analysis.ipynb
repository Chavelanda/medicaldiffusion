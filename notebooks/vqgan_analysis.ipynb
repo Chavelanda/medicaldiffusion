{
 "cells": [
  {
   "cell_type": "markdown",
   "metadata": {},
   "source": [
    "# VQGAN Analysis"
   ]
  },
  {
   "cell_type": "markdown",
   "metadata": {},
   "source": [
    "## Imports"
   ]
  },
  {
   "cell_type": "code",
   "execution_count": 1,
   "metadata": {},
   "outputs": [],
   "source": [
    "import os\n",
    "import sys\n",
    "module_path = os.path.abspath(os.path.join('..'))\n",
    "if module_path not in sys.path:\n",
    "    sys.path.append(module_path)"
   ]
  },
  {
   "cell_type": "code",
   "execution_count": 2,
   "metadata": {},
   "outputs": [
    {
     "name": "stdout",
     "output_type": "stream",
     "text": [
      "Jupyter environment detected. Enabling Open3D WebVisualizer.\n",
      "[Open3D INFO] WebRTC GUI backend enabled.\n",
      "[Open3D INFO] WebRTCWindowSystem: HTTP handshake server disabled.\n"
     ]
    }
   ],
   "source": [
    "import torch\n",
    "import matplotlib.pyplot as plt\n",
    "import numpy as np\n",
    "\n",
    "from dataset import AllCTsDataset\n",
    "import dataset.utils as utils\n",
    "from vq_gan_3d.model.vqgan import VQGAN"
   ]
  },
  {
   "cell_type": "markdown",
   "metadata": {},
   "source": [
    "## Load the model and dataset"
   ]
  },
  {
   "cell_type": "code",
   "execution_count": 3,
   "metadata": {},
   "outputs": [
    {
     "name": "stdout",
     "output_type": "stream",
     "text": [
      "loaded pretrained LPIPS loss from c:\\Users\\giach\\OneDrive\\Documenti\\Uni\\Magistrale\\Tesi\\medicaldiffusion\\vq_gan_3d\\model\\cache\\vgg.pth\n"
     ]
    },
    {
     "data": {
      "text/plain": [
       "VQGAN(\n",
       "  (encoder): Encoder(\n",
       "    (conv_blocks): ModuleList(\n",
       "      (0): Module(\n",
       "        (down): SamePadConv3d(\n",
       "          (conv): Conv3d(16, 32, kernel_size=(4, 4, 4), stride=(2, 2, 2))\n",
       "        )\n",
       "        (res): ResBlock(\n",
       "          (norm1): GroupNorm(16, 32, eps=1e-06, affine=True)\n",
       "          (conv1): SamePadConv3d(\n",
       "            (conv): Conv3d(32, 32, kernel_size=(3, 3, 3), stride=(1, 1, 1))\n",
       "          )\n",
       "          (dropout): Dropout(p=0.0, inplace=False)\n",
       "          (norm2): GroupNorm(16, 32, eps=1e-06, affine=True)\n",
       "          (conv2): SamePadConv3d(\n",
       "            (conv): Conv3d(32, 32, kernel_size=(3, 3, 3), stride=(1, 1, 1))\n",
       "          )\n",
       "        )\n",
       "      )\n",
       "      (1): Module(\n",
       "        (down): SamePadConv3d(\n",
       "          (conv): Conv3d(32, 64, kernel_size=(4, 4, 4), stride=(2, 2, 2))\n",
       "        )\n",
       "        (res): ResBlock(\n",
       "          (norm1): GroupNorm(16, 64, eps=1e-06, affine=True)\n",
       "          (conv1): SamePadConv3d(\n",
       "            (conv): Conv3d(64, 64, kernel_size=(3, 3, 3), stride=(1, 1, 1))\n",
       "          )\n",
       "          (dropout): Dropout(p=0.0, inplace=False)\n",
       "          (norm2): GroupNorm(16, 64, eps=1e-06, affine=True)\n",
       "          (conv2): SamePadConv3d(\n",
       "            (conv): Conv3d(64, 64, kernel_size=(3, 3, 3), stride=(1, 1, 1))\n",
       "          )\n",
       "        )\n",
       "      )\n",
       "    )\n",
       "    (conv_first): SamePadConv3d(\n",
       "      (conv): Conv3d(1, 16, kernel_size=(3, 3, 3), stride=(1, 1, 1))\n",
       "    )\n",
       "    (final_block): Sequential(\n",
       "      (0): GroupNorm(16, 64, eps=1e-06, affine=True)\n",
       "      (1): SiLU()\n",
       "    )\n",
       "  )\n",
       "  (decoder): Decoder(\n",
       "    (final_block): Sequential(\n",
       "      (0): GroupNorm(16, 64, eps=1e-06, affine=True)\n",
       "      (1): SiLU()\n",
       "    )\n",
       "    (conv_blocks): ModuleList(\n",
       "      (0): Module(\n",
       "        (up): SamePadConvTranspose3d(\n",
       "          (convt): ConvTranspose3d(64, 64, kernel_size=(4, 4, 4), stride=(2, 2, 2), padding=(3, 3, 3))\n",
       "        )\n",
       "        (res1): ResBlock(\n",
       "          (norm1): GroupNorm(16, 64, eps=1e-06, affine=True)\n",
       "          (conv1): SamePadConv3d(\n",
       "            (conv): Conv3d(64, 64, kernel_size=(3, 3, 3), stride=(1, 1, 1))\n",
       "          )\n",
       "          (dropout): Dropout(p=0.0, inplace=False)\n",
       "          (norm2): GroupNorm(16, 64, eps=1e-06, affine=True)\n",
       "          (conv2): SamePadConv3d(\n",
       "            (conv): Conv3d(64, 64, kernel_size=(3, 3, 3), stride=(1, 1, 1))\n",
       "          )\n",
       "        )\n",
       "        (res2): ResBlock(\n",
       "          (norm1): GroupNorm(16, 64, eps=1e-06, affine=True)\n",
       "          (conv1): SamePadConv3d(\n",
       "            (conv): Conv3d(64, 64, kernel_size=(3, 3, 3), stride=(1, 1, 1))\n",
       "          )\n",
       "          (dropout): Dropout(p=0.0, inplace=False)\n",
       "          (norm2): GroupNorm(16, 64, eps=1e-06, affine=True)\n",
       "          (conv2): SamePadConv3d(\n",
       "            (conv): Conv3d(64, 64, kernel_size=(3, 3, 3), stride=(1, 1, 1))\n",
       "          )\n",
       "        )\n",
       "      )\n",
       "      (1): Module(\n",
       "        (up): SamePadConvTranspose3d(\n",
       "          (convt): ConvTranspose3d(64, 32, kernel_size=(4, 4, 4), stride=(2, 2, 2), padding=(3, 3, 3))\n",
       "        )\n",
       "        (res1): ResBlock(\n",
       "          (norm1): GroupNorm(16, 32, eps=1e-06, affine=True)\n",
       "          (conv1): SamePadConv3d(\n",
       "            (conv): Conv3d(32, 32, kernel_size=(3, 3, 3), stride=(1, 1, 1))\n",
       "          )\n",
       "          (dropout): Dropout(p=0.0, inplace=False)\n",
       "          (norm2): GroupNorm(16, 32, eps=1e-06, affine=True)\n",
       "          (conv2): SamePadConv3d(\n",
       "            (conv): Conv3d(32, 32, kernel_size=(3, 3, 3), stride=(1, 1, 1))\n",
       "          )\n",
       "        )\n",
       "        (res2): ResBlock(\n",
       "          (norm1): GroupNorm(16, 32, eps=1e-06, affine=True)\n",
       "          (conv1): SamePadConv3d(\n",
       "            (conv): Conv3d(32, 32, kernel_size=(3, 3, 3), stride=(1, 1, 1))\n",
       "          )\n",
       "          (dropout): Dropout(p=0.0, inplace=False)\n",
       "          (norm2): GroupNorm(16, 32, eps=1e-06, affine=True)\n",
       "          (conv2): SamePadConv3d(\n",
       "            (conv): Conv3d(32, 32, kernel_size=(3, 3, 3), stride=(1, 1, 1))\n",
       "          )\n",
       "        )\n",
       "      )\n",
       "    )\n",
       "    (conv_last): SamePadConv3d(\n",
       "      (conv): Conv3d(32, 1, kernel_size=(3, 3, 3), stride=(1, 1, 1))\n",
       "    )\n",
       "  )\n",
       "  (pre_vq_conv): SamePadConv3d(\n",
       "    (conv): Conv3d(64, 8, kernel_size=(1, 1, 1), stride=(1, 1, 1))\n",
       "  )\n",
       "  (post_vq_conv): SamePadConv3d(\n",
       "    (conv): Conv3d(8, 64, kernel_size=(1, 1, 1), stride=(1, 1, 1))\n",
       "  )\n",
       "  (codebook): Codebook()\n",
       "  (image_discriminator): NLayerDiscriminator(\n",
       "    (model0): Sequential(\n",
       "      (0): Conv2d(1, 64, kernel_size=(4, 4), stride=(2, 2), padding=(2, 2))\n",
       "      (1): LeakyReLU(negative_slope=0.2, inplace=True)\n",
       "    )\n",
       "    (model1): Sequential(\n",
       "      (0): Conv2d(64, 128, kernel_size=(4, 4), stride=(2, 2), padding=(2, 2))\n",
       "      (1): BatchNorm2d(128, eps=1e-05, momentum=0.1, affine=True, track_running_stats=True)\n",
       "      (2): LeakyReLU(negative_slope=0.2, inplace=True)\n",
       "    )\n",
       "    (model2): Sequential(\n",
       "      (0): Conv2d(128, 256, kernel_size=(4, 4), stride=(2, 2), padding=(2, 2))\n",
       "      (1): BatchNorm2d(256, eps=1e-05, momentum=0.1, affine=True, track_running_stats=True)\n",
       "      (2): LeakyReLU(negative_slope=0.2, inplace=True)\n",
       "    )\n",
       "    (model3): Sequential(\n",
       "      (0): Conv2d(256, 512, kernel_size=(4, 4), stride=(1, 1), padding=(2, 2))\n",
       "      (1): BatchNorm2d(512, eps=1e-05, momentum=0.1, affine=True, track_running_stats=True)\n",
       "      (2): LeakyReLU(negative_slope=0.2, inplace=True)\n",
       "    )\n",
       "    (model4): Sequential(\n",
       "      (0): Conv2d(512, 1, kernel_size=(4, 4), stride=(1, 1), padding=(2, 2))\n",
       "    )\n",
       "  )\n",
       "  (video_discriminator): NLayerDiscriminator3D(\n",
       "    (model0): Sequential(\n",
       "      (0): Conv3d(1, 64, kernel_size=(4, 4, 4), stride=(2, 2, 2), padding=(2, 2, 2))\n",
       "      (1): LeakyReLU(negative_slope=0.2, inplace=True)\n",
       "    )\n",
       "    (model1): Sequential(\n",
       "      (0): Conv3d(64, 128, kernel_size=(4, 4, 4), stride=(2, 2, 2), padding=(2, 2, 2))\n",
       "      (1): BatchNorm3d(128, eps=1e-05, momentum=0.1, affine=True, track_running_stats=True)\n",
       "      (2): LeakyReLU(negative_slope=0.2, inplace=True)\n",
       "    )\n",
       "    (model2): Sequential(\n",
       "      (0): Conv3d(128, 256, kernel_size=(4, 4, 4), stride=(2, 2, 2), padding=(2, 2, 2))\n",
       "      (1): BatchNorm3d(256, eps=1e-05, momentum=0.1, affine=True, track_running_stats=True)\n",
       "      (2): LeakyReLU(negative_slope=0.2, inplace=True)\n",
       "    )\n",
       "    (model3): Sequential(\n",
       "      (0): Conv3d(256, 512, kernel_size=(4, 4, 4), stride=(1, 1, 1), padding=(2, 2, 2))\n",
       "      (1): BatchNorm3d(512, eps=1e-05, momentum=0.1, affine=True, track_running_stats=True)\n",
       "      (2): LeakyReLU(negative_slope=0.2, inplace=True)\n",
       "    )\n",
       "    (model4): Sequential(\n",
       "      (0): Conv3d(512, 1, kernel_size=(4, 4, 4), stride=(1, 1, 1), padding=(2, 2, 2))\n",
       "    )\n",
       "  )\n",
       "  (perceptual_model): LPIPS(\n",
       "    (scaling_layer): ScalingLayer()\n",
       "    (net): vgg16(\n",
       "      (slice1): Sequential(\n",
       "        (0): Conv2d(3, 64, kernel_size=(3, 3), stride=(1, 1), padding=(1, 1))\n",
       "        (1): ReLU(inplace=True)\n",
       "        (2): Conv2d(64, 64, kernel_size=(3, 3), stride=(1, 1), padding=(1, 1))\n",
       "        (3): ReLU(inplace=True)\n",
       "      )\n",
       "      (slice2): Sequential(\n",
       "        (4): MaxPool2d(kernel_size=2, stride=2, padding=0, dilation=1, ceil_mode=False)\n",
       "        (5): Conv2d(64, 128, kernel_size=(3, 3), stride=(1, 1), padding=(1, 1))\n",
       "        (6): ReLU(inplace=True)\n",
       "        (7): Conv2d(128, 128, kernel_size=(3, 3), stride=(1, 1), padding=(1, 1))\n",
       "        (8): ReLU(inplace=True)\n",
       "      )\n",
       "      (slice3): Sequential(\n",
       "        (9): MaxPool2d(kernel_size=2, stride=2, padding=0, dilation=1, ceil_mode=False)\n",
       "        (10): Conv2d(128, 256, kernel_size=(3, 3), stride=(1, 1), padding=(1, 1))\n",
       "        (11): ReLU(inplace=True)\n",
       "        (12): Conv2d(256, 256, kernel_size=(3, 3), stride=(1, 1), padding=(1, 1))\n",
       "        (13): ReLU(inplace=True)\n",
       "        (14): Conv2d(256, 256, kernel_size=(3, 3), stride=(1, 1), padding=(1, 1))\n",
       "        (15): ReLU(inplace=True)\n",
       "      )\n",
       "      (slice4): Sequential(\n",
       "        (16): MaxPool2d(kernel_size=2, stride=2, padding=0, dilation=1, ceil_mode=False)\n",
       "        (17): Conv2d(256, 512, kernel_size=(3, 3), stride=(1, 1), padding=(1, 1))\n",
       "        (18): ReLU(inplace=True)\n",
       "        (19): Conv2d(512, 512, kernel_size=(3, 3), stride=(1, 1), padding=(1, 1))\n",
       "        (20): ReLU(inplace=True)\n",
       "        (21): Conv2d(512, 512, kernel_size=(3, 3), stride=(1, 1), padding=(1, 1))\n",
       "        (22): ReLU(inplace=True)\n",
       "      )\n",
       "      (slice5): Sequential(\n",
       "        (23): MaxPool2d(kernel_size=2, stride=2, padding=0, dilation=1, ceil_mode=False)\n",
       "        (24): Conv2d(512, 512, kernel_size=(3, 3), stride=(1, 1), padding=(1, 1))\n",
       "        (25): ReLU(inplace=True)\n",
       "        (26): Conv2d(512, 512, kernel_size=(3, 3), stride=(1, 1), padding=(1, 1))\n",
       "        (27): ReLU(inplace=True)\n",
       "        (28): Conv2d(512, 512, kernel_size=(3, 3), stride=(1, 1), padding=(1, 1))\n",
       "        (29): ReLU(inplace=True)\n",
       "      )\n",
       "    )\n",
       "    (lin0): NetLinLayer(\n",
       "      (model): Sequential(\n",
       "        (0): Dropout(p=0.5, inplace=False)\n",
       "        (1): Conv2d(64, 1, kernel_size=(1, 1), stride=(1, 1), bias=False)\n",
       "      )\n",
       "    )\n",
       "    (lin1): NetLinLayer(\n",
       "      (model): Sequential(\n",
       "        (0): Dropout(p=0.5, inplace=False)\n",
       "        (1): Conv2d(128, 1, kernel_size=(1, 1), stride=(1, 1), bias=False)\n",
       "      )\n",
       "    )\n",
       "    (lin2): NetLinLayer(\n",
       "      (model): Sequential(\n",
       "        (0): Dropout(p=0.5, inplace=False)\n",
       "        (1): Conv2d(256, 1, kernel_size=(1, 1), stride=(1, 1), bias=False)\n",
       "      )\n",
       "    )\n",
       "    (lin3): NetLinLayer(\n",
       "      (model): Sequential(\n",
       "        (0): Dropout(p=0.5, inplace=False)\n",
       "        (1): Conv2d(512, 1, kernel_size=(1, 1), stride=(1, 1), bias=False)\n",
       "      )\n",
       "    )\n",
       "    (lin4): NetLinLayer(\n",
       "      (model): Sequential(\n",
       "        (0): Dropout(p=0.5, inplace=False)\n",
       "        (1): Conv2d(512, 1, kernel_size=(1, 1), stride=(1, 1), bias=False)\n",
       "      )\n",
       "    )\n",
       "  )\n",
       ")"
      ]
     },
     "execution_count": 3,
     "metadata": {},
     "output_type": "execute_result"
    }
   ],
   "source": [
    "checkpoint_path = \"../checkpoints/vq_gan_3d/AllCTs/vqgan-05/best_val.ckpt\"\n",
    "model = VQGAN.load_from_checkpoint(checkpoint_path)\n",
    "model.eval()"
   ]
  },
  {
   "cell_type": "code",
   "execution_count": 4,
   "metadata": {},
   "outputs": [],
   "source": [
    "dataset = AllCTsDataset(root_dir='../data/allcts-global-128', split='test', resize_d=1, resize_h=1, resize_w=1)"
   ]
  },
  {
   "cell_type": "markdown",
   "metadata": {},
   "source": [
    "# Get reconstructed images"
   ]
  },
  {
   "cell_type": "code",
   "execution_count": 17,
   "metadata": {},
   "outputs": [
    {
     "name": "stdout",
     "output_type": "stream",
     "text": [
      "[124]\n"
     ]
    },
    {
     "data": {
      "text/plain": [
       "array(['CT113'], dtype=object)"
      ]
     },
     "execution_count": 17,
     "metadata": {},
     "output_type": "execute_result"
    }
   ],
   "source": [
    "indices = np.random.choice(range(len(dataset)), (1,))\n",
    "print(indices)\n",
    "names = dataset.df.iloc[indices, 0].to_numpy()\n",
    "names"
   ]
  },
  {
   "cell_type": "code",
   "execution_count": 55,
   "metadata": {},
   "outputs": [
    {
     "data": {
      "text/plain": [
       "([19], [5], ['CTS095'])"
      ]
     },
     "execution_count": 55,
     "metadata": {},
     "output_type": "execute_result"
    }
   ],
   "source": [
    "start = 5\n",
    "indices = []\n",
    "qualities = []\n",
    "names = []\n",
    "for i in range(10):\n",
    "    quality = i+2\n",
    "    if quality != 5:\n",
    "        continue\n",
    "    quality_df = dataset.input_df.loc[dataset.input_df.quality == i+2]\n",
    "\n",
    "    name = quality_df.name.iloc[start]\n",
    "    index_name = quality_df.index[start]\n",
    "    index = dataset.df.index.get_loc(index_name)\n",
    "\n",
    "    indices.append(index)\n",
    "    qualities.append(quality)\n",
    "    names.append(name)\n",
    "\n",
    "indices, qualities, names"
   ]
  },
  {
   "cell_type": "code",
   "execution_count": 56,
   "metadata": {},
   "outputs": [
    {
     "ename": "RuntimeError",
     "evalue": "[enforce fail at alloc_cpu.cpp:80] data. DefaultCPUAllocator: not enough memory: you tried to allocate 2147483648 bytes.",
     "output_type": "error",
     "traceback": [
      "\u001b[1;31m---------------------------------------------------------------------------\u001b[0m",
      "\u001b[1;31mRuntimeError\u001b[0m                              Traceback (most recent call last)",
      "Input \u001b[1;32mIn [56]\u001b[0m, in \u001b[0;36m<cell line: 2>\u001b[1;34m()\u001b[0m\n\u001b[0;32m      5\u001b[0m example_batch \u001b[38;5;241m=\u001b[39m {\u001b[38;5;124m'\u001b[39m\u001b[38;5;124mdata\u001b[39m\u001b[38;5;124m'\u001b[39m: batched_img}\n\u001b[0;32m      7\u001b[0m \u001b[38;5;28;01mwith\u001b[39;00m torch\u001b[38;5;241m.\u001b[39mno_grad():\n\u001b[1;32m----> 8\u001b[0m     reconstructed_image \u001b[38;5;241m=\u001b[39m \u001b[43mmodel\u001b[49m\u001b[38;5;241;43m.\u001b[39;49m\u001b[43mtest_step\u001b[49m\u001b[43m(\u001b[49m\u001b[43mexample_batch\u001b[49m\u001b[43m,\u001b[49m\u001b[43m \u001b[49m\u001b[38;5;241;43m0\u001b[39;49m\u001b[43m)\u001b[49m\n\u001b[0;32m      9\u001b[0m     reconstructed_images\u001b[38;5;241m.\u001b[39mappend(reconstructed_image)\n",
      "File \u001b[1;32mc:\\Users\\giach\\OneDrive\\Documenti\\Uni\\Magistrale\\Tesi\\medicaldiffusion\\vq_gan_3d\\model\\vqgan.py:279\u001b[0m, in \u001b[0;36mVQGAN.test_step\u001b[1;34m(self, batch, batch_idx)\u001b[0m\n\u001b[0;32m    277\u001b[0m \u001b[38;5;28;01mdef\u001b[39;00m \u001b[38;5;21mtest_step\u001b[39m(\u001b[38;5;28mself\u001b[39m, batch, batch_idx):\n\u001b[0;32m    278\u001b[0m     x \u001b[38;5;241m=\u001b[39m batch[\u001b[38;5;124m'\u001b[39m\u001b[38;5;124mdata\u001b[39m\u001b[38;5;124m'\u001b[39m]\n\u001b[1;32m--> 279\u001b[0m     x_recon \u001b[38;5;241m=\u001b[39m \u001b[38;5;28;43mself\u001b[39;49m\u001b[38;5;241;43m.\u001b[39;49m\u001b[43mforward\u001b[49m\u001b[43m(\u001b[49m\u001b[43mx\u001b[49m\u001b[43m,\u001b[49m\u001b[43m \u001b[49m\u001b[43mtest\u001b[49m\u001b[38;5;241;43m=\u001b[39;49m\u001b[38;5;28;43;01mTrue\u001b[39;49;00m\u001b[43m)\u001b[49m\n\u001b[0;32m    280\u001b[0m     \u001b[38;5;28;01mreturn\u001b[39;00m x_recon\n",
      "File \u001b[1;32mc:\\Users\\giach\\OneDrive\\Documenti\\Uni\\Magistrale\\Tesi\\medicaldiffusion\\vq_gan_3d\\model\\vqgan.py:120\u001b[0m, in \u001b[0;36mVQGAN.forward\u001b[1;34m(self, x, optimizer_idx, log_image, name, test)\u001b[0m\n\u001b[0;32m    118\u001b[0m z \u001b[38;5;241m=\u001b[39m \u001b[38;5;28mself\u001b[39m\u001b[38;5;241m.\u001b[39mpre_vq_conv(\u001b[38;5;28mself\u001b[39m\u001b[38;5;241m.\u001b[39mencoder(x))\n\u001b[0;32m    119\u001b[0m \u001b[38;5;66;03m# print('Codebook')\u001b[39;00m\n\u001b[1;32m--> 120\u001b[0m vq_output \u001b[38;5;241m=\u001b[39m \u001b[38;5;28;43mself\u001b[39;49m\u001b[38;5;241;43m.\u001b[39;49m\u001b[43mcodebook\u001b[49m\u001b[43m(\u001b[49m\u001b[43mz\u001b[49m\u001b[43m)\u001b[49m\n\u001b[0;32m    121\u001b[0m \u001b[38;5;66;03m# print('Decoder')\u001b[39;00m\n\u001b[0;32m    122\u001b[0m x_recon \u001b[38;5;241m=\u001b[39m \u001b[38;5;28mself\u001b[39m\u001b[38;5;241m.\u001b[39mdecoder(\u001b[38;5;28mself\u001b[39m\u001b[38;5;241m.\u001b[39mpost_vq_conv(vq_output[\u001b[38;5;124m'\u001b[39m\u001b[38;5;124membeddings\u001b[39m\u001b[38;5;124m'\u001b[39m]))\n",
      "File \u001b[1;32mc:\\Users\\giach\\anaconda3\\envs\\medicaldiffusion\\lib\\site-packages\\torch\\nn\\modules\\module.py:1518\u001b[0m, in \u001b[0;36mModule._wrapped_call_impl\u001b[1;34m(self, *args, **kwargs)\u001b[0m\n\u001b[0;32m   1516\u001b[0m     \u001b[38;5;28;01mreturn\u001b[39;00m \u001b[38;5;28mself\u001b[39m\u001b[38;5;241m.\u001b[39m_compiled_call_impl(\u001b[38;5;241m*\u001b[39margs, \u001b[38;5;241m*\u001b[39m\u001b[38;5;241m*\u001b[39mkwargs)  \u001b[38;5;66;03m# type: ignore[misc]\u001b[39;00m\n\u001b[0;32m   1517\u001b[0m \u001b[38;5;28;01melse\u001b[39;00m:\n\u001b[1;32m-> 1518\u001b[0m     \u001b[38;5;28;01mreturn\u001b[39;00m \u001b[38;5;28;43mself\u001b[39;49m\u001b[38;5;241;43m.\u001b[39;49m\u001b[43m_call_impl\u001b[49m\u001b[43m(\u001b[49m\u001b[38;5;241;43m*\u001b[39;49m\u001b[43margs\u001b[49m\u001b[43m,\u001b[49m\u001b[43m \u001b[49m\u001b[38;5;241;43m*\u001b[39;49m\u001b[38;5;241;43m*\u001b[39;49m\u001b[43mkwargs\u001b[49m\u001b[43m)\u001b[49m\n",
      "File \u001b[1;32mc:\\Users\\giach\\anaconda3\\envs\\medicaldiffusion\\lib\\site-packages\\torch\\nn\\modules\\module.py:1527\u001b[0m, in \u001b[0;36mModule._call_impl\u001b[1;34m(self, *args, **kwargs)\u001b[0m\n\u001b[0;32m   1522\u001b[0m \u001b[38;5;66;03m# If we don't have any hooks, we want to skip the rest of the logic in\u001b[39;00m\n\u001b[0;32m   1523\u001b[0m \u001b[38;5;66;03m# this function, and just call forward.\u001b[39;00m\n\u001b[0;32m   1524\u001b[0m \u001b[38;5;28;01mif\u001b[39;00m \u001b[38;5;129;01mnot\u001b[39;00m (\u001b[38;5;28mself\u001b[39m\u001b[38;5;241m.\u001b[39m_backward_hooks \u001b[38;5;129;01mor\u001b[39;00m \u001b[38;5;28mself\u001b[39m\u001b[38;5;241m.\u001b[39m_backward_pre_hooks \u001b[38;5;129;01mor\u001b[39;00m \u001b[38;5;28mself\u001b[39m\u001b[38;5;241m.\u001b[39m_forward_hooks \u001b[38;5;129;01mor\u001b[39;00m \u001b[38;5;28mself\u001b[39m\u001b[38;5;241m.\u001b[39m_forward_pre_hooks\n\u001b[0;32m   1525\u001b[0m         \u001b[38;5;129;01mor\u001b[39;00m _global_backward_pre_hooks \u001b[38;5;129;01mor\u001b[39;00m _global_backward_hooks\n\u001b[0;32m   1526\u001b[0m         \u001b[38;5;129;01mor\u001b[39;00m _global_forward_hooks \u001b[38;5;129;01mor\u001b[39;00m _global_forward_pre_hooks):\n\u001b[1;32m-> 1527\u001b[0m     \u001b[38;5;28;01mreturn\u001b[39;00m \u001b[43mforward_call\u001b[49m\u001b[43m(\u001b[49m\u001b[38;5;241;43m*\u001b[39;49m\u001b[43margs\u001b[49m\u001b[43m,\u001b[49m\u001b[43m \u001b[49m\u001b[38;5;241;43m*\u001b[39;49m\u001b[38;5;241;43m*\u001b[39;49m\u001b[43mkwargs\u001b[49m\u001b[43m)\u001b[49m\n\u001b[0;32m   1529\u001b[0m \u001b[38;5;28;01mtry\u001b[39;00m:\n\u001b[0;32m   1530\u001b[0m     result \u001b[38;5;241m=\u001b[39m \u001b[38;5;28;01mNone\u001b[39;00m\n",
      "File \u001b[1;32mc:\\Users\\giach\\OneDrive\\Documenti\\Uni\\Magistrale\\Tesi\\medicaldiffusion\\vq_gan_3d\\model\\codebook.py:60\u001b[0m, in \u001b[0;36mCodebook.forward\u001b[1;34m(self, z)\u001b[0m\n\u001b[0;32m     55\u001b[0m distances \u001b[38;5;241m=\u001b[39m (flat_inputs \u001b[38;5;241m*\u001b[39m\u001b[38;5;241m*\u001b[39m \u001b[38;5;241m2\u001b[39m)\u001b[38;5;241m.\u001b[39msum(dim\u001b[38;5;241m=\u001b[39m\u001b[38;5;241m1\u001b[39m, keepdim\u001b[38;5;241m=\u001b[39m\u001b[38;5;28;01mTrue\u001b[39;00m) \\\n\u001b[0;32m     56\u001b[0m     \u001b[38;5;241m-\u001b[39m \u001b[38;5;241m2\u001b[39m \u001b[38;5;241m*\u001b[39m flat_inputs \u001b[38;5;241m@\u001b[39m \u001b[38;5;28mself\u001b[39m\u001b[38;5;241m.\u001b[39membeddings\u001b[38;5;241m.\u001b[39mt() \\\n\u001b[0;32m     57\u001b[0m     \u001b[38;5;241m+\u001b[39m (\u001b[38;5;28mself\u001b[39m\u001b[38;5;241m.\u001b[39membeddings\u001b[38;5;241m.\u001b[39mt() \u001b[38;5;241m*\u001b[39m\u001b[38;5;241m*\u001b[39m \u001b[38;5;241m2\u001b[39m)\u001b[38;5;241m.\u001b[39msum(dim\u001b[38;5;241m=\u001b[39m\u001b[38;5;241m0\u001b[39m, keepdim\u001b[38;5;241m=\u001b[39m\u001b[38;5;28;01mTrue\u001b[39;00m)  \u001b[38;5;66;03m# [bthw, c]\u001b[39;00m\n\u001b[0;32m     59\u001b[0m encoding_indices \u001b[38;5;241m=\u001b[39m torch\u001b[38;5;241m.\u001b[39margmin(distances, dim\u001b[38;5;241m=\u001b[39m\u001b[38;5;241m1\u001b[39m)\n\u001b[1;32m---> 60\u001b[0m encode_onehot \u001b[38;5;241m=\u001b[39m \u001b[43mF\u001b[49m\u001b[38;5;241;43m.\u001b[39;49m\u001b[43mone_hot\u001b[49m\u001b[43m(\u001b[49m\u001b[43mencoding_indices\u001b[49m\u001b[43m,\u001b[49m\u001b[43m \u001b[49m\u001b[38;5;28;43mself\u001b[39;49m\u001b[38;5;241;43m.\u001b[39;49m\u001b[43mn_codes\u001b[49m\u001b[43m)\u001b[49m\u001b[38;5;241;43m.\u001b[39;49m\u001b[43mtype_as\u001b[49m\u001b[43m(\u001b[49m\u001b[43mflat_inputs\u001b[49m\u001b[43m)\u001b[49m  \u001b[38;5;66;03m# [bthw, ncode]\u001b[39;00m\n\u001b[0;32m     61\u001b[0m encoding_indices \u001b[38;5;241m=\u001b[39m encoding_indices\u001b[38;5;241m.\u001b[39mview(z\u001b[38;5;241m.\u001b[39mshape[\u001b[38;5;241m0\u001b[39m], \u001b[38;5;241m*\u001b[39mz\u001b[38;5;241m.\u001b[39mshape[\u001b[38;5;241m2\u001b[39m:])  \u001b[38;5;66;03m# [b, t, h, w, ncode]\u001b[39;00m\n\u001b[0;32m     63\u001b[0m embeddings \u001b[38;5;241m=\u001b[39m F\u001b[38;5;241m.\u001b[39membedding(\n\u001b[0;32m     64\u001b[0m     encoding_indices, \u001b[38;5;28mself\u001b[39m\u001b[38;5;241m.\u001b[39membeddings)  \u001b[38;5;66;03m# [b, t, h, w, c]\u001b[39;00m\n",
      "\u001b[1;31mRuntimeError\u001b[0m: [enforce fail at alloc_cpu.cpp:80] data. DefaultCPUAllocator: not enough memory: you tried to allocate 2147483648 bytes."
     ]
    }
   ],
   "source": [
    "reconstructed_images = []\n",
    "for index in indices:\n",
    "    img = dataset[index]\n",
    "    batched_img = torch.unsqueeze(img['data'], 0)\n",
    "    example_batch = {'data': batched_img}\n",
    "\n",
    "    with torch.no_grad():\n",
    "        reconstructed_image = model.test_step(example_batch, 0)\n",
    "        reconstructed_images.append(reconstructed_image)\n"
   ]
  },
  {
   "cell_type": "markdown",
   "metadata": {},
   "source": [
    "## Visualize the images\n"
   ]
  },
  {
   "cell_type": "code",
   "execution_count": 8,
   "metadata": {},
   "outputs": [],
   "source": [
    "all_images = []\n",
    "all_names = []\n",
    "for i, index in enumerate(indices):\n",
    "    img = dataset[index]['data']\n",
    "    name = names[i]\n",
    "    quality = qualities[i]\n",
    "    all_images.append(img)\n",
    "    all_names.append(name + f'-original-q{quality}')\n",
    "    all_images.append(reconstructed_images[i])\n",
    "    all_names.append(name + f'-recon-q{quality}')"
   ]
  },
  {
   "cell_type": "code",
   "execution_count": 18,
   "metadata": {},
   "outputs": [
    {
     "data": {
      "image/png": "[encoded data removed]",
      "text/plain": [
       "<Figure size 800x400 with 8 Axes>"
      ]
     },
     "metadata": {},
     "output_type": "display_data"
    }
   ],
   "source": [
    "utils.show_image_grid(all_images, axis=1, names=all_names, slices=(range(20,100,20)))"
   ]
  },
  {
   "cell_type": "markdown",
   "metadata": {},
   "source": [
    "## Build meshes from images"
   ]
  },
  {
   "cell_type": "code",
   "execution_count": 39,
   "metadata": {},
   "outputs": [
    {
     "name": "stdout",
     "output_type": "stream",
     "text": [
      "TriangleMesh with 88074 points and 176260 triangles.\n"
     ]
    }
   ],
   "source": [
    "utils.build_mesh(torch.transpose(torch.squeeze(all_images[0]), 0, 1).detach().cpu().numpy(), threshold=0, name=all_names[0], output_folder='../data/mesh-test', spacing=[0.3345859, 0.46262616, 0.49944812])"
   ]
  },
  {
   "cell_type": "code",
   "execution_count": 38,
   "metadata": {},
   "outputs": [
    {
     "name": "stdout",
     "output_type": "stream",
     "text": [
      "TriangleMesh with 84728 points and 169844 triangles.\n"
     ]
    }
   ],
   "source": [
    "for i, img in enumerate(reconstructed_images):\n",
    "    name = names[i] + f'-reconstructed'\n",
    "    utils.build_mesh(torch.transpose(torch.squeeze(img), 0, 1).detach().cpu().numpy(), threshold=0, name=name, output_folder='../data/mesh-test', spacing=[0.3345859, 0.46262616, 0.49944812])"
   ]
  },
  {
   "cell_type": "code",
   "execution_count": 25,
   "metadata": {},
   "outputs": [
    {
     "name": "stdout",
     "output_type": "stream",
     "text": [
      "TriangleMesh with 102768 points and 206240 triangles.\n",
      "TriangleMesh with 33478 points and 67120 triangles.\n",
      "TriangleMesh with 124046 points and 248328 triangles.\n"
     ]
    }
   ],
   "source": [
    "for i, index in enumerate(indices):\n",
    "    img = dataset[index]['data']\n",
    "    name = names[i]\n",
    "    img = torch.squeeze(img).detach().cpu().numpy()\n",
    "    quality = np.argmax(dataset.df.iloc[index, 2:].to_numpy()) +2\n",
    "    utils.build_mesh(img, threshold=0, name=name + f'-q{quality}', output_folder='../data/mesh-test')"
   ]
  }
 ],
 "metadata": {
  "kernelspec": {
   "display_name": "medicaldiffusion",
   "language": "python",
   "name": "python3"
  },
  "language_info": {
   "codemirror_mode": {
    "name": "ipython",
    "version": 3
   },
   "file_extension": ".py",
   "mimetype": "text/x-python",
   "name": "python",
   "nbconvert_exporter": "python",
   "pygments_lexer": "ipython3",
   "version": "3.8.18"
  }
 },
 "nbformat": 4,
 "nbformat_minor": 2
}
